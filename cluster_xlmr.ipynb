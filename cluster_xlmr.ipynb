{
 "cells": [
  {
   "cell_type": "code",
   "execution_count": null,
   "id": "ca8d6c2c-bf4e-4b20-abfd-91bbb87e5d8b",
   "metadata": {},
   "outputs": [
    {
     "ename": "",
     "evalue": "",
     "output_type": "error",
     "traceback": [
      "\u001b[1;31mRunning cells with 'base' requires the ipykernel package.\n",
      "\u001b[1;31mRun the following command to install 'ipykernel' into the Python environment. \n",
      "\u001b[1;31mCommand: 'conda install -n base ipykernel --update-deps --force-reinstall'"
     ]
    }
   ],
   "source": [
    "from laserembeddings import Laser\n",
    "import numpy as np\n",
    "from indicnlp.tokenize import sentence_tokenize\n",
    "import os\n",
    "from sklearn.decomposition import PCA\n",
    "from sklearn.cluster import KMeans, BisectingKMeans, AgglomerativeClustering, SpectralClustering, DBSCAN\n",
    "from sklearn.metrics.cluster import adjusted_mutual_info_score, adjusted_rand_score\n",
    "from IPython.display import clear_output\n",
    "import matplotlib.pyplot as plt\n",
    "import pickle as pk\n",
    "from embedder import Embedder\n",
    "from matplotlib.font_manager import FontProperties\n",
    "from transformers import BertTokenizer, BertModel\n",
    "from sentence_transformers import SentenceTransformer\n",
    "\n",
    "laser = Laser()\n",
    "embedder = SentenceTransformer('distiluse-base-multilingual-cased')\n",
    "pca_1 = PCA(n_components=2)\n",
    "pca_2 = PCA(n_components=2)"
   ]
  },
  {
   "cell_type": "code",
   "execution_count": 3,
   "id": "68c415f3-12b9-4b3c-acbc-f96c5d97d815",
   "metadata": {
    "tags": []
   },
   "outputs": [
    {
     "data": {
      "application/vnd.jupyter.widget-view+json": {
       "model_id": "1a6d6f4c7f71437c94276a48977b8cc8",
       "version_major": 2,
       "version_minor": 0
      },
      "text/plain": [
       "Downloading (…)31d34/.gitattributes:   0%|          | 0.00/345 [00:00<?, ?B/s]"
      ]
     },
     "metadata": {},
     "output_type": "display_data"
    },
    {
     "data": {
      "application/vnd.jupyter.widget-view+json": {
       "model_id": "0d25bbc01fd94d9ea8dac361e394d2b4",
       "version_major": 2,
       "version_minor": 0
      },
      "text/plain": [
       "Downloading (…)_Pooling/config.json:   0%|          | 0.00/190 [00:00<?, ?B/s]"
      ]
     },
     "metadata": {},
     "output_type": "display_data"
    },
    {
     "data": {
      "application/vnd.jupyter.widget-view+json": {
       "model_id": "11565e66adbe4ee997968fa5b9f954c4",
       "version_major": 2,
       "version_minor": 0
      },
      "text/plain": [
       "Downloading (…)e4a1a31d34/README.md: 0.00B [00:00, ?B/s]"
      ]
     },
     "metadata": {},
     "output_type": "display_data"
    },
    {
     "data": {
      "application/vnd.jupyter.widget-view+json": {
       "model_id": "f8ff8d2041754014a40b05cbe3935df8",
       "version_major": 2,
       "version_minor": 0
      },
      "text/plain": [
       "Downloading (…)a1a31d34/config.json:   0%|          | 0.00/718 [00:00<?, ?B/s]"
      ]
     },
     "metadata": {},
     "output_type": "display_data"
    },
    {
     "data": {
      "application/vnd.jupyter.widget-view+json": {
       "model_id": "492fb50e18854433b976af878a4b7340",
       "version_major": 2,
       "version_minor": 0
      },
      "text/plain": [
       "Downloading (…)ce_transformers.json:   0%|          | 0.00/122 [00:00<?, ?B/s]"
      ]
     },
     "metadata": {},
     "output_type": "display_data"
    },
    {
     "data": {
      "application/vnd.jupyter.widget-view+json": {
       "model_id": "47bb7da80b2445a7b78b7604e3f5e63e",
       "version_major": 2,
       "version_minor": 0
      },
      "text/plain": [
       "Downloading pytorch_model.bin:   0%|          | 0.00/1.11G [00:00<?, ?B/s]"
      ]
     },
     "metadata": {},
     "output_type": "display_data"
    },
    {
     "data": {
      "application/vnd.jupyter.widget-view+json": {
       "model_id": "6d05da8c9a06488b8d95849e1a7635e8",
       "version_major": 2,
       "version_minor": 0
      },
      "text/plain": [
       "Downloading (…)nce_bert_config.json:   0%|          | 0.00/53.0 [00:00<?, ?B/s]"
      ]
     },
     "metadata": {},
     "output_type": "display_data"
    },
    {
     "data": {
      "application/vnd.jupyter.widget-view+json": {
       "model_id": "c8de3386fafa48978e1e79807a381c20",
       "version_major": 2,
       "version_minor": 0
      },
      "text/plain": [
       "Downloading (…)tencepiece.bpe.model:   0%|          | 0.00/5.07M [00:00<?, ?B/s]"
      ]
     },
     "metadata": {},
     "output_type": "display_data"
    },
    {
     "data": {
      "application/vnd.jupyter.widget-view+json": {
       "model_id": "53b80067b75d4b32ab6585f99657adf8",
       "version_major": 2,
       "version_minor": 0
      },
      "text/plain": [
       "Downloading (…)cial_tokens_map.json:   0%|          | 0.00/150 [00:00<?, ?B/s]"
      ]
     },
     "metadata": {},
     "output_type": "display_data"
    },
    {
     "data": {
      "application/vnd.jupyter.widget-view+json": {
       "model_id": "15c3d76055fd46538507542628cf9c0d",
       "version_major": 2,
       "version_minor": 0
      },
      "text/plain": [
       "Downloading (…)31d34/tokenizer.json: 0.00B [00:00, ?B/s]"
      ]
     },
     "metadata": {},
     "output_type": "display_data"
    },
    {
     "data": {
      "application/vnd.jupyter.widget-view+json": {
       "model_id": "e0dd6fb755c342fabff2567c359f77e7",
       "version_major": 2,
       "version_minor": 0
      },
      "text/plain": [
       "Downloading (…)okenizer_config.json:   0%|          | 0.00/550 [00:00<?, ?B/s]"
      ]
     },
     "metadata": {},
     "output_type": "display_data"
    },
    {
     "data": {
      "application/vnd.jupyter.widget-view+json": {
       "model_id": "7abe9df4fc31403280fdaf72c5e5a3f9",
       "version_major": 2,
       "version_minor": 0
      },
      "text/plain": [
       "Downloading (…)1a31d34/modules.json:   0%|          | 0.00/229 [00:00<?, ?B/s]"
      ]
     },
     "metadata": {},
     "output_type": "display_data"
    }
   ],
   "source": [
    "path = \"Articles Dataset/\"\n",
    "langs = [\"English/\", \"Nepali/\", \"Hindi/\"]\n",
    "\n",
    "class Article:\n",
    "    emb = None\n",
    "    pca_emb = None\n",
    "\n",
    "    def __init__(self, text, lang, cat, fname):\n",
    "        self.text = text\n",
    "        self.lang = lang\n",
    "        self.cat = cat\n",
    "        self.fname = fname\n",
    "\n",
    "    def sen_split(self):\n",
    "        self.text = sentence_tokenize.sentence_split(self.text, lang=self.lang)\n",
    "\n",
    "articles = []\n",
    "\n",
    "for lang in langs:\n",
    "    categories = [f for f in os.listdir(path + lang) if os.path.isdir(os.path.join(path + lang, f))]\n",
    "    for category in categories:\n",
    "        for filename in os.listdir(path + lang + category):\n",
    "            if filename[:-4] != \"metadata\":\n",
    "                with open(os.path.join(path + lang + category, filename), 'r') as file:\n",
    "                    articles.append(Article(file.read(), lang[:3].lower(), category.lower(), filename.lower()))\n",
    "\n",
    "model = SentenceTransformer('sentence-transformers/paraphrase-xlm-r-multilingual-v1')\n",
    "\n",
    "for article in articles:\n",
    "    article.sen_split()\n",
    "    article.emb = np.mean(model.encode(article.text), axis=0)\n",
    "\n",
    "embedding_space = []\n",
    "\n",
    "for article in articles:\n",
    "    embedding_space.append(article.emb)\n",
    "\n",
    "embedding_space = np.array(embedding_space)\n",
    "pca = PCA(n_components=2)\n",
    "pca.fit(embedding_space)\n",
    "for article in articles:\n",
    "    article.pca_emb = pca.transform(article.emb.reshape(1, -1))\n",
    "\n",
    "color_dict = {\n",
    "    'sports': '#FF5733',  # orange\n",
    "    'politics': '#6B8E23',  # olive green\n",
    "    'entertainment': '#BA55D3',  # medium purple\n",
    "    'economics': '#1E90FF',  # dodger blue\n",
    "    'crime': '#FF1493'  # deep pink\n",
    "}"
   ]
  },
  {
   "cell_type": "code",
   "execution_count": 4,
   "id": "f597541c-218d-4e13-b3a6-0beb8ddc9c00",
   "metadata": {
    "tags": []
   },
   "outputs": [
    {
     "data": {
      "image/png": "[encoded data removed]",
      "text/plain": [
       "<Figure size 1000x1000 with 1 Axes>"
      ]
     },
     "metadata": {},
     "output_type": "display_data"
    }
   ],
   "source": [
    "fig = plt.figure(figsize=(10, 10))\n",
    "ax = fig.subplots()\n",
    "\n",
    "emb_by_cat = {}\n",
    "\n",
    "for article in articles:\n",
    "    category = article.cat\n",
    "    if category not in emb_by_cat:\n",
    "        emb_by_cat[category] = []\n",
    "    emb_by_cat[category].append(article.pca_emb)\n",
    "\n",
    "for category, pca_embs in emb_by_cat.items():\n",
    "    x = [pca_emb[0][0] for pca_emb in pca_embs]\n",
    "    y = [pca_emb[0][1] for pca_emb in pca_embs]\n",
    "    color = color_dict[category]\n",
    "    ax.scatter(x, y, color=color, label=category)\n",
    "\n",
    "ax.legend()\n",
    "\n",
    "plt.show()"
   ]
  },
  {
   "cell_type": "code",
   "execution_count": 6,
   "id": "a2f6282c-24c5-41ba-a849-85163019cbe9",
   "metadata": {
    "tags": []
   },
   "outputs": [],
   "source": [
    "real = []\n",
    "cats = {\"entertainment\": 0,\n",
    "        \"sports\": 1,\n",
    "        \"politics\": 2,\n",
    "        \"crime\": 3,\n",
    "        \"economics\": 4}\n",
    "for a in articles:\n",
    "    real.append(cats[a.cat])\n",
    "real = np.array(real)"
   ]
  },
  {
   "cell_type": "code",
   "execution_count": 7,
   "id": "a9b98be3-fa34-4f30-9209-c3c3bcedf0ec",
   "metadata": {
    "tags": []
   },
   "outputs": [
    {
     "name": "stdout",
     "output_type": "stream",
     "text": [
      "0.8977445637049605\n",
      "0.8875841137471898\n"
     ]
    },
    {
     "name": "stderr",
     "output_type": "stream",
     "text": [
      "/opt/homebrew/lib/python3.10/site-packages/sklearn/cluster/_kmeans.py:870: FutureWarning: The default value of `n_init` will change from 10 to 'auto' in 1.4. Set the value of `n_init` explicitly to suppress the warning\n",
      "  warnings.warn(\n"
     ]
    }
   ],
   "source": [
    "kmeans = KMeans(n_clusters=5)\n",
    "labels = kmeans.fit_predict(embedding_space)\n",
    "\n",
    "clusters = {}\n",
    "\n",
    "for i in range(len(labels)):\n",
    "    cluster = labels[i]\n",
    "    if cluster not in clusters:\n",
    "        clusters[cluster] = []\n",
    "    clusters[cluster].append(articles[i])\n",
    "\n",
    "# for cluster, arcls in clusters.items():\n",
    "#     print(f\"Cluster {cluster}:\")\n",
    "#     for article in arcls:\n",
    "#         print(article.lang + \":\" + article.cat + \":\" + article.fname)\n",
    "#     print(\"\\n\")\n",
    "\n",
    "print(adjusted_mutual_info_score(list(labels), list(real)))\n",
    "print(adjusted_rand_score(list(labels), list(real)))"
   ]
  },
  {
   "cell_type": "code",
   "execution_count": 8,
   "id": "ed088ca3-bf68-4bb2-aaab-fdae48133086",
   "metadata": {},
   "outputs": [
    {
     "name": "stdout",
     "output_type": "stream",
     "text": [
      "0.8788747021655444\n",
      "0.8712564970673787\n"
     ]
    }
   ],
   "source": [
    "bisect_means = BisectingKMeans(n_clusters=5)\n",
    "labels = bisect_means.fit_predict(embedding_space)\n",
    "\n",
    "clusters = {}\n",
    "\n",
    "for i in range(len(labels)):\n",
    "    cluster = labels[i]\n",
    "    if cluster not in clusters:\n",
    "        clusters[cluster] = []\n",
    "    clusters[cluster].append(articles[i])\n",
    "\n",
    "# for cluster, arcls in clusters.items():\n",
    "#     print(f\"Cluster {cluster}:\")\n",
    "#     for article in arcls:\n",
    "#         print(article.lang + \":\" + article.cat + \":\" + article.fname)\n",
    "#     print(\"\\n\")\n",
    "print(adjusted_mutual_info_score(list(labels), list(real)))\n",
    "print(adjusted_rand_score(list(labels), list(real)))"
   ]
  },
  {
   "cell_type": "code",
   "execution_count": 9,
   "id": "3600c7d4-e77f-4493-9ef3-c8947a333c90",
   "metadata": {
    "tags": []
   },
   "outputs": [
    {
     "name": "stdout",
     "output_type": "stream",
     "text": [
      "0.8275731003119225\n",
      "0.8104073687209192\n"
     ]
    }
   ],
   "source": [
    "agg = AgglomerativeClustering(n_clusters=5)\n",
    "labels = agg.fit_predict(embedding_space)\n",
    "\n",
    "clusters = {}\n",
    "\n",
    "for i in range(len(labels)):\n",
    "    cluster = labels[i]\n",
    "    if cluster not in clusters:\n",
    "        clusters[cluster] = []\n",
    "    clusters[cluster].append(articles[i])\n",
    "\n",
    "# for cluster, arcls in clusters.items():\n",
    "#     print(f\"Cluster {cluster}:\")\n",
    "#     for article in arcls:\n",
    "#         print(article.lang + \":\" + article.cat + \":\" + article.fname)\n",
    "#     print(\"\\n\")\n",
    "\n",
    "print(adjusted_mutual_info_score(list(labels), list(real)))\n",
    "print(adjusted_rand_score(list(labels), list(real)))"
   ]
  },
  {
   "cell_type": "code",
   "execution_count": 12,
   "id": "da874ac0-40b3-41f4-8514-bf06762d524d",
   "metadata": {
    "tags": []
   },
   "outputs": [
    {
     "name": "stdout",
     "output_type": "stream",
     "text": [
      "0.4107372489894185\n",
      "0.1681493066225854\n"
     ]
    }
   ],
   "source": [
    "spec = SpectralClustering(n_clusters=5)\n",
    "labels = spec.fit_predict(embedding_space)\n",
    "\n",
    "clusters = {}\n",
    "\n",
    "for i in range(len(labels)):\n",
    "    cluster = labels[i]\n",
    "    if cluster not in clusters:\n",
    "        clusters[cluster] = []\n",
    "    clusters[cluster].append(articles[i])\n",
    "\n",
    "# for cluster, arcls in clusters.items():\n",
    "#     print(f\"Cluster {cluster}:\")\n",
    "#     for article in arcls:\n",
    "#         print(article.lang + \":\" + article.cat + \":\" + article.fname)\n",
    "#     print(\"\\n\")\n",
    "\n",
    "print(adjusted_mutual_info_score(list(labels), list(real)))\n",
    "print(adjusted_rand_score(list(labels), list(real)))"
   ]
  },
  {
   "cell_type": "code",
   "execution_count": 11,
   "id": "d45f7fc3-bb3a-4b19-bcd5-af923d0b8232",
   "metadata": {
    "tags": []
   },
   "outputs": [
    {
     "name": "stdout",
     "output_type": "stream",
     "text": [
      "0.0\n",
      "0.0\n"
     ]
    }
   ],
   "source": [
    "dbscan = DBSCAN(eps=0.375)\n",
    "labels = dbscan.fit_predict(embedding_space)\n",
    "\n",
    "clusters = {}\n",
    "\n",
    "for i in range(len(labels)):\n",
    "    cluster = labels[i]\n",
    "    if cluster not in clusters:\n",
    "        clusters[cluster] = []\n",
    "    clusters[cluster].append(articles[i])\n",
    "\n",
    "# for cluster, arcls in clusters.items():\n",
    "#     print(f\"Cluster {cluster}:\")\n",
    "#     for article in arcls:\n",
    "#         print(article.lang + \":\" + article.cat + \":\" + article.fname)\n",
    "#     print(\"\\n\")\n",
    "\n",
    "print(adjusted_mutual_info_score(list(labels), list(real)))\n",
    "print(adjusted_rand_score(list(labels), list(real)))"
   ]
  },
  {
   "cell_type": "code",
   "execution_count": null,
   "id": "cd8f27e9-6873-4d73-9423-8e44c5aecf83",
   "metadata": {},
   "outputs": [],
   "source": []
  }
 ],
 "metadata": {
  "kernelspec": {
   "display_name": "Python 3 (ipykernel)",
   "language": "python",
   "name": "python3"
  },
  "language_info": {
   "codemirror_mode": {
    "name": "ipython",
    "version": 3
   },
   "file_extension": ".py",
   "mimetype": "text/x-python",
   "name": "python",
   "nbconvert_exporter": "python",
   "pygments_lexer": "ipython3",
   "version": "3.10.7"
  }
 },
 "nbformat": 4,
 "nbformat_minor": 5
}
