{
 "cells": [
  {
   "cell_type": "code",
   "execution_count": 8,
   "id": "ca8d6c2c-bf4e-4b20-abfd-91bbb87e5d8b",
   "metadata": {},
   "outputs": [],
   "source": [
    "from laserembeddings import Laser\n",
    "import numpy as np\n",
    "from sklearn.decomposition import PCA\n",
    "from IPython.display import clear_output\n",
    "import matplotlib.pyplot as plt\n",
    "import pickle as pk\n",
    "from embedder import Embedder\n",
    "\n",
    "laser = Laser()\n",
    "pca_1 = PCA(n_components=2)\n",
    "pca_2 = PCA(n_components=2)"
   ]
  },
  {
   "cell_type": "code",
   "execution_count": 9,
   "id": "2b7be9f6-e7e0-4e40-81ab-a013c0a71b4f",
   "metadata": {
    "tags": []
   },
   "outputs": [
    {
     "name": "stdout",
     "output_type": "stream",
     "text": [
      "4095\n"
     ]
    }
   ],
   "source": [
    "f1 = open(\"final_data/en-hi/train.hi\", \"r\")\n",
    "f2 = open(\"final_data/en-hi/train.en\", \"r\")\n",
    "\n",
    "embeddings_1 = []\n",
    "embeddings_2 = []\n",
    "\n",
    "for i in range(4096):\n",
    "    embedding_1 = laser.embed_sentences([f1.readline()], lang=['hi'])\n",
    "    embeddings_1.append(embedding_1)\n",
    "    embedding_2 = laser.embed_sentences([f2.readline()], lang=['en'])\n",
    "    embeddings_2.append(embedding_2)\n",
    "    clear_output()\n",
    "    print(i)\n",
    "\n",
    "embeddings_1 = np.array([embeddings_1]).squeeze()\n",
    "embeddings_2 = np.array([embeddings_2]).squeeze()"
   ]
  },
  {
   "cell_type": "code",
   "execution_count": 10,
   "id": "b96c7914-7fca-4e17-bdf0-daa64ee307fb",
   "metadata": {
    "tags": []
   },
   "outputs": [
    {
     "data": {
      "text/plain": [
       "PCA(n_components=2)"
      ]
     },
     "execution_count": 10,
     "metadata": {},
     "output_type": "execute_result"
    }
   ],
   "source": [
    "pca_1.fit(embeddings_1)\n",
    "pca_2.fit(embeddings_2)"
   ]
  },
  {
   "cell_type": "code",
   "execution_count": 11,
   "id": "f08556fc-7076-462c-b5c7-0607c790a11c",
   "metadata": {
    "tags": []
   },
   "outputs": [
    {
     "name": "stderr",
     "output_type": "stream",
     "text": [
      "c:\\Anaconda\\lib\\site-packages\\sklearn\\base.py:310: UserWarning: Trying to unpickle estimator PCA from version 1.2.2 when using version 0.24.1. This might lead to breaking code or invalid results. Use at your own risk.\n",
      "  warnings.warn(\n"
     ]
    }
   ],
   "source": [
    "f1 = open(\"final_data/en-hi/train.hi\", \"r\")\n",
    "f2 = open(\"final_data/en-hi/train.en\", \"r\")\n",
    "\n",
    "pairs = []\n",
    "x_1 = []\n",
    "y_1 = []\n",
    "x_2 = []\n",
    "y_2 = []\n",
    "e = Embedder(\"pca_hi.pkl\", \"pca_en.pkl\")\n",
    "\n",
    "for i in range(1024):\n",
    "    # embedding_1 = laser.embed_sentences([f1.readline()], lang=['hi'])\n",
    "    # embedding_2 = laser.embed_sentences([f2.readline()], lang=['en'])\n",
    "    # point_1 = pca_1.transform(embedding_1)\n",
    "    # # x_1.append(point_1[0, 0])\n",
    "    # # y_1.append(point_1[0, 1])\n",
    "    # point_2 = pca_2.transform(embedding_2)\n",
    "    # # x_2.append(point_2[0, 0])\n",
    "    # # y_2.append(point_2[0, 1])\n",
    "    point_1, point_2 = e.embed(f1.readline(), f2.readline())\n",
    "    # pair = (point_1[0,0], point_1[0,1], point_2[0,0], point_2[0,1], np.linalg.norm(point_1 - point_2))\n",
    "    pair = (point_1[0], point_1[1], point_2[0], point_2[1], np.linalg.norm(point_1 - point_2))\n",
    "    pairs.append(pair)\n",
    "\n",
    "pairs.sort(key = lambda x: x[-1])\n",
    "\n",
    "for i in range(10):\n",
    "    x_1.append(pairs[i][0])\n",
    "    y_1.append(pairs[i][1])\n",
    "    x_2.append(pairs[i][2])\n",
    "    y_2.append(pairs[i][3])"
   ]
  },
  {
   "cell_type": "code",
   "execution_count": 12,
   "id": "93d44764-6c07-4cab-ba17-620fb71d3744",
   "metadata": {
    "tags": []
   },
   "outputs": [
    {
     "data": {
      "text/plain": [
       "[-0.13036603,\n",
       " 0.055399343,\n",
       " 0.2705235,\n",
       " -0.2293999,\n",
       " 0.113123804,\n",
       " -0.0879422,\n",
       " -0.07506828,\n",
       " 0.036164947,\n",
       " 0.21446618,\n",
       " -0.054348167]"
      ]
     },
     "execution_count": 12,
     "metadata": {},
     "output_type": "execute_result"
    }
   ],
   "source": [
    "x_1"
   ]
  },
  {
   "cell_type": "code",
   "execution_count": 13,
   "id": "e7c95cc6-8dbd-49ff-be25-6bf44efc58e5",
   "metadata": {
    "tags": []
   },
   "outputs": [
    {
     "data": {
      "image/png": "[encoded data removed]",
      "text/plain": [
       "<Figure size 432x288 with 1 Axes>"
      ]
     },
     "metadata": {
      "needs_background": "light"
     },
     "output_type": "display_data"
    }
   ],
   "source": [
    "plt.scatter(x_1, y_1, c='b')\n",
    "plt.scatter(x_2, y_2, c='r')\n",
    "for i in range(len(x_1)):\n",
    "    plt.annotate(str(i), (x_1[i], y_1[i]))\n",
    "    plt.annotate(str(i), (x_2[i], y_2[i]))\n",
    "    \n",
    "plt.show()"
   ]
  },
  {
   "cell_type": "code",
   "execution_count": null,
   "id": "3d6e2efa-7a8e-40f1-addc-c01b615a88a2",
   "metadata": {},
   "outputs": [],
   "source": []
  },
  {
   "cell_type": "code",
   "execution_count": 14,
   "id": "f403164b-88df-4747-abea-34b0e879ac0b",
   "metadata": {
    "tags": []
   },
   "outputs": [],
   "source": [
    "pk.dump(pca_2, open(\"pca_en.pkl\",\"wb\"))"
   ]
  },
  {
   "cell_type": "code",
   "execution_count": null,
   "id": "e05936ac-47c9-45bf-b7b1-95be9338cb5e",
   "metadata": {},
   "outputs": [],
   "source": []
  },
  {
   "cell_type": "code",
   "execution_count": null,
   "id": "3262885e-378b-4667-ab0b-14bece5c96d4",
   "metadata": {},
   "outputs": [],
   "source": []
  },
  {
   "cell_type": "code",
   "execution_count": null,
   "id": "84a10ca4-8316-40e7-affb-7f3f5c434a99",
   "metadata": {},
   "outputs": [],
   "source": []
  },
  {
   "cell_type": "code",
   "execution_count": null,
   "id": "e634d83b-f023-4b7a-906c-49e92a71a70d",
   "metadata": {},
   "outputs": [],
   "source": []
  },
  {
   "cell_type": "code",
   "execution_count": 2,
   "id": "648160af-6be4-43f7-a827-7a0ab75cbe7f",
   "metadata": {},
   "outputs": [
    {
     "name": "stderr",
     "output_type": "stream",
     "text": [
      "c:\\Anaconda\\lib\\site-packages\\sklearn\\base.py:310: UserWarning: Trying to unpickle estimator PCA from version 1.2.2 when using version 0.24.1. This might lead to breaking code or invalid results. Use at your own risk.\n",
      "  warnings.warn(\n"
     ]
    }
   ],
   "source": [
    "from embedder import Embedder\n",
    "e = Embedder(\"pca_hi.pkl\", \"pca_en.pkl\")"
   ]
  },
  {
   "cell_type": "code",
   "execution_count": 3,
   "id": "a94995cd-30cd-45e6-97a8-940151e4632e",
   "metadata": {
    "tags": []
   },
   "outputs": [
    {
     "data": {
      "text/plain": [
       "(array([-0.12455568,  0.03574941], dtype=float32),\n",
       " array([-0.11231815, -0.00041717], dtype=float32))"
      ]
     },
     "execution_count": 3,
     "metadata": {},
     "output_type": "execute_result"
    }
   ],
   "source": [
    "e.embed(\"जिसके जवाब में पाक ने अच्छी शुरुआत की थी\", \"In reply, Pakistan got off to a solid start\")"
   ]
  },
  {
   "cell_type": "code",
   "execution_count": null,
   "id": "71e52dea-2e10-4e4b-a13b-6d53d128f1b7",
   "metadata": {},
   "outputs": [],
   "source": []
  }
 ],
 "metadata": {
  "kernelspec": {
   "display_name": "base",
   "language": "python",
   "name": "python3"
  },
  "language_info": {
   "codemirror_mode": {
    "name": "ipython",
    "version": 3
   },
   "file_extension": ".py",
   "mimetype": "text/x-python",
   "name": "python",
   "nbconvert_exporter": "python",
   "pygments_lexer": "ipython3",
   "version": "3.8.8"
  },
  "vscode": {
   "interpreter": {
    "hash": "6f5583cf1d9466b5c27e75c89cc6b383bed5736d6b16c51c8074d8690011a952"
   }
  }
 },
 "nbformat": 4,
 "nbformat_minor": 5
}
